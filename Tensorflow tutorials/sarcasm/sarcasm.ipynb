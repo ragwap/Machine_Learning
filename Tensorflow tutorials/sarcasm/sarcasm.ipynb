{
 "cells": [
  {
   "cell_type": "code",
   "execution_count": 1,
   "metadata": {},
   "outputs": [],
   "source": [
    "import json"
   ]
  },
  {
   "cell_type": "code",
   "execution_count": 2,
   "metadata": {},
   "outputs": [],
   "source": [
    "dataset = []\n",
    "for line in open(\"Sarcasm_Headlines_Dataset.json\", \"r\"):\n",
    "    dataset.append(json.loads(line))\n",
    "    json.load"
   ]
  },
  {
   "cell_type": "code",
   "execution_count": 3,
   "metadata": {},
   "outputs": [
    {
     "data": {
      "text/plain": [
       "{'article_link': 'https://www.huffingtonpost.com/entry/versace-black-code_us_5861fbefe4b0de3a08f600d5',\n",
       " 'headline': \"former versace store clerk sues over secret 'black code' for minority shoppers\",\n",
       " 'is_sarcastic': 0}"
      ]
     },
     "execution_count": 3,
     "metadata": {},
     "output_type": "execute_result"
    }
   ],
   "source": [
    "dataset[0]"
   ]
  },
  {
   "cell_type": "code",
   "execution_count": 4,
   "metadata": {},
   "outputs": [],
   "source": [
    "article_link = []\n",
    "headline = []\n",
    "is_sarcastic = []"
   ]
  },
  {
   "cell_type": "code",
   "execution_count": 5,
   "metadata": {},
   "outputs": [],
   "source": [
    "for item in dataset:\n",
    "    article_link.append(item['article_link'])\n",
    "    headline.append(item['headline'])\n",
    "    is_sarcastic.append(item['is_sarcastic'])"
   ]
  },
  {
   "cell_type": "code",
   "execution_count": 6,
   "metadata": {},
   "outputs": [
    {
     "data": {
      "text/plain": [
       "1"
      ]
     },
     "execution_count": 6,
     "metadata": {},
     "output_type": "execute_result"
    }
   ],
   "source": [
    "is_sarcastic[120]"
   ]
  },
  {
   "cell_type": "code",
   "execution_count": 7,
   "metadata": {},
   "outputs": [
    {
     "data": {
      "text/plain": [
       "26709"
      ]
     },
     "execution_count": 7,
     "metadata": {},
     "output_type": "execute_result"
    }
   ],
   "source": [
    "data_len = len(headline)\n",
    "data_len"
   ]
  },
  {
   "cell_type": "code",
   "execution_count": 23,
   "metadata": {},
   "outputs": [],
   "source": [
    "import tensorflow as tf\n",
    "from tensorflow import keras as k\n",
    "from tensorflow.keras.preprocessing.text import Tokenizer\n",
    "from tensorflow.keras.preprocessing.sequence import pad_sequences as pd\n",
    "import numpy as np"
   ]
  },
  {
   "cell_type": "code",
   "execution_count": 9,
   "metadata": {},
   "outputs": [],
   "source": [
    "token = Tokenizer(oov_token=\"<OOV>\")"
   ]
  },
  {
   "cell_type": "code",
   "execution_count": 10,
   "metadata": {},
   "outputs": [],
   "source": [
    "token.fit_on_texts(headline)"
   ]
  },
  {
   "cell_type": "code",
   "execution_count": 11,
   "metadata": {},
   "outputs": [
    {
     "data": {
      "text/plain": [
       "29657"
      ]
     },
     "execution_count": 11,
     "metadata": {},
     "output_type": "execute_result"
    }
   ],
   "source": [
    "word_index = token.word_index\n",
    "len(word_index)"
   ]
  },
  {
   "cell_type": "code",
   "execution_count": 12,
   "metadata": {},
   "outputs": [
    {
     "data": {
      "text/plain": [
       "array([  308, 15115,   679,  3337,  2298,    48,   382,  2576, 15116,\n",
       "           6,  2577,  8434,     0,     0,     0,     0,     0,     0,\n",
       "           0,     0,     0,     0,     0,     0,     0,     0,     0,\n",
       "           0,     0,     0,     0,     0,     0,     0,     0,     0,\n",
       "           0,     0,     0,     0])"
      ]
     },
     "execution_count": 12,
     "metadata": {},
     "output_type": "execute_result"
    }
   ],
   "source": [
    "seq = token.texts_to_sequences(headline)\n",
    "padded = pd(seq, padding='post')\n",
    "padded[0]"
   ]
  },
  {
   "cell_type": "code",
   "execution_count": 13,
   "metadata": {},
   "outputs": [
    {
     "data": {
      "text/plain": [
       "\"former versace store clerk sues over secret 'black code' for minority shoppers\""
      ]
     },
     "execution_count": 13,
     "metadata": {},
     "output_type": "execute_result"
    }
   ],
   "source": [
    "headline[0]"
   ]
  },
  {
   "cell_type": "code",
   "execution_count": 14,
   "metadata": {},
   "outputs": [
    {
     "name": "stdout",
     "output_type": "stream",
     "text": [
      "(26709, 40)\n"
     ]
    }
   ],
   "source": [
    "print(padded.shape)"
   ]
  },
  {
   "cell_type": "code",
   "execution_count": 38,
   "metadata": {},
   "outputs": [
    {
     "data": {
      "text/plain": [
       "21367"
      ]
     },
     "execution_count": 38,
     "metadata": {},
     "output_type": "execute_result"
    }
   ],
   "source": [
    "# Train size is 80% of the dataset\n",
    "# Test size is 20% of the dataset\n",
    "train_size = round((data_len * 80) / 100)\n",
    "train_size"
   ]
  },
  {
   "cell_type": "code",
   "execution_count": 16,
   "metadata": {},
   "outputs": [],
   "source": [
    "train_headline = headline[0:train_size]\n",
    "test_headline = headline[train_size:]\n",
    "\n",
    "train_result = is_sarcastic[0:train_size]\n",
    "test_result = is_sarcastic[train_size:]"
   ]
  },
  {
   "cell_type": "code",
   "execution_count": 17,
   "metadata": {},
   "outputs": [],
   "source": [
    "token2 = Tokenizer(oov_token=\"<OOV>\")"
   ]
  },
  {
   "cell_type": "code",
   "execution_count": 18,
   "metadata": {},
   "outputs": [],
   "source": [
    "token2.fit_on_texts(train_headline)\n",
    "word_index_2 = token2.word_index\n",
    "\n",
    "train_seq = token2.texts_to_sequences(train_headline)\n",
    "train_pad = pd(train_seq)"
   ]
  },
  {
   "cell_type": "code",
   "execution_count": 19,
   "metadata": {},
   "outputs": [],
   "source": [
    "test_seq = token2.texts_to_sequences(test_headline)\n",
    "test_pad = pd(test_seq)"
   ]
  },
  {
   "cell_type": "code",
   "execution_count": 29,
   "metadata": {},
   "outputs": [],
   "source": [
    "vocab_size = len(word_index_2) + 1\n",
    "model = k.Sequential([\n",
    "    k.layers.Embedding(vocab_size, 50),\n",
    "    k.layers.GlobalAveragePooling1D(),\n",
    "    k.layers.Dense(24, activation='relu'),\n",
    "    k.layers.Dense(1, activation='sigmoid')\n",
    "])\n",
    "model.compile(loss='binary_crossentropy', optimizer='adam', metrics=['accuracy'])"
   ]
  },
  {
   "cell_type": "code",
   "execution_count": 30,
   "metadata": {},
   "outputs": [],
   "source": [
    "train_pad = np.array(train_pad)\n",
    "train_result = np.array(train_result)\n",
    "test_pad = np.array(test_pad)\n",
    "test_result = np.array(test_result)"
   ]
  },
  {
   "cell_type": "code",
   "execution_count": 44,
   "metadata": {},
   "outputs": [
    {
     "name": "stdout",
     "output_type": "stream",
     "text": [
      "Train on 21367 samples, validate on 5342 samples\n",
      "Epoch 1/30\n",
      "21367/21367 - 9s - loss: 0.0048 - accuracy: 0.9984 - val_loss: 2.1797 - val_accuracy: 0.8149\n",
      "Epoch 2/30\n",
      "21367/21367 - 9s - loss: 0.0018 - accuracy: 0.9993 - val_loss: 2.2693 - val_accuracy: 0.8081\n",
      "Epoch 3/30\n",
      "21367/21367 - 9s - loss: 5.0737e-05 - accuracy: 1.0000 - val_loss: 2.2646 - val_accuracy: 0.8107\n",
      "Epoch 4/30\n",
      "21367/21367 - 9s - loss: 4.5053e-06 - accuracy: 1.0000 - val_loss: 2.2689 - val_accuracy: 0.8104\n",
      "Epoch 5/30\n",
      "21367/21367 - 9s - loss: 2.8008e-06 - accuracy: 1.0000 - val_loss: 2.2710 - val_accuracy: 0.8102\n",
      "Epoch 6/30\n",
      "21367/21367 - 9s - loss: 2.2523e-06 - accuracy: 1.0000 - val_loss: 2.2751 - val_accuracy: 0.8104\n",
      "Epoch 7/30\n",
      "21367/21367 - 9s - loss: 1.9258e-06 - accuracy: 1.0000 - val_loss: 2.2786 - val_accuracy: 0.8104\n",
      "Epoch 8/30\n",
      "21367/21367 - 9s - loss: 1.6254e-06 - accuracy: 1.0000 - val_loss: 2.2834 - val_accuracy: 0.8106\n",
      "Epoch 9/30\n",
      "21367/21367 - 10s - loss: 1.3831e-06 - accuracy: 1.0000 - val_loss: 2.2878 - val_accuracy: 0.8107\n",
      "Epoch 10/30\n",
      "21367/21367 - 10s - loss: 1.1634e-06 - accuracy: 1.0000 - val_loss: 2.2944 - val_accuracy: 0.8113\n",
      "Epoch 11/30\n",
      "21367/21367 - 10s - loss: 1.0178e-06 - accuracy: 1.0000 - val_loss: 2.2976 - val_accuracy: 0.8111\n",
      "Epoch 12/30\n",
      "21367/21367 - 10s - loss: 8.7503e-07 - accuracy: 1.0000 - val_loss: 2.3045 - val_accuracy: 0.8115\n",
      "Epoch 13/30\n",
      "21367/21367 - 9s - loss: 7.3253e-07 - accuracy: 1.0000 - val_loss: 2.3114 - val_accuracy: 0.8119\n",
      "Epoch 14/30\n",
      "21367/21367 - 10s - loss: 6.4746e-07 - accuracy: 1.0000 - val_loss: 2.3199 - val_accuracy: 0.8113\n",
      "Epoch 15/30\n",
      "21367/21367 - 9s - loss: 5.4890e-07 - accuracy: 1.0000 - val_loss: 2.3311 - val_accuracy: 0.8107\n",
      "Epoch 16/30\n",
      "21367/21367 - 10s - loss: 4.6574e-07 - accuracy: 1.0000 - val_loss: 2.3404 - val_accuracy: 0.8109\n",
      "Epoch 17/30\n",
      "21367/21367 - 10s - loss: 4.0644e-07 - accuracy: 1.0000 - val_loss: 2.3554 - val_accuracy: 0.8109\n",
      "Epoch 18/30\n",
      "21367/21367 - 10s - loss: 3.4226e-07 - accuracy: 1.0000 - val_loss: 2.3716 - val_accuracy: 0.8115\n",
      "Epoch 19/30\n",
      "21367/21367 - 11s - loss: 2.9407e-07 - accuracy: 1.0000 - val_loss: 2.3886 - val_accuracy: 0.8113\n",
      "Epoch 20/30\n",
      "21367/21367 - 12s - loss: 2.5263e-07 - accuracy: 1.0000 - val_loss: 2.4109 - val_accuracy: 0.8109\n",
      "Epoch 21/30\n",
      "21367/21367 - 11s - loss: 2.1170e-07 - accuracy: 1.0000 - val_loss: 2.4345 - val_accuracy: 0.8113\n",
      "Epoch 22/30\n",
      "21367/21367 - 11s - loss: 1.7030e-07 - accuracy: 1.0000 - val_loss: 2.4589 - val_accuracy: 0.8107\n",
      "Epoch 23/30\n",
      "21367/21367 - 11s - loss: 1.4274e-07 - accuracy: 1.0000 - val_loss: 2.4860 - val_accuracy: 0.8111\n",
      "Epoch 24/30\n",
      "21367/21367 - 11s - loss: 1.1562e-07 - accuracy: 1.0000 - val_loss: 2.5188 - val_accuracy: 0.8109\n",
      "Epoch 25/30\n",
      "21367/21367 - 11s - loss: 9.3103e-08 - accuracy: 1.0000 - val_loss: 2.5445 - val_accuracy: 0.8113\n",
      "Epoch 26/30\n",
      "21367/21367 - 11s - loss: 7.4713e-08 - accuracy: 1.0000 - val_loss: 2.5816 - val_accuracy: 0.8111\n",
      "Epoch 27/30\n",
      "21367/21367 - 11s - loss: 6.3930e-08 - accuracy: 1.0000 - val_loss: 2.6133 - val_accuracy: 0.8113\n",
      "Epoch 28/30\n",
      "21367/21367 - 10s - loss: 4.9809e-08 - accuracy: 1.0000 - val_loss: 2.6432 - val_accuracy: 0.8092\n",
      "Epoch 29/30\n",
      "21367/21367 - 11s - loss: 4.0245e-08 - accuracy: 1.0000 - val_loss: 2.6808 - val_accuracy: 0.8104\n",
      "Epoch 30/30\n",
      "21367/21367 - 11s - loss: 3.5171e-08 - accuracy: 1.0000 - val_loss: 2.7159 - val_accuracy: 0.8100\n"
     ]
    }
   ],
   "source": [
    "training = model.fit(train_pad, train_result, epochs=30, validation_data=(test_pad, test_result), verbose=2)"
   ]
  },
  {
   "cell_type": "code",
   "execution_count": 45,
   "metadata": {},
   "outputs": [],
   "source": [
    "sentences = [\n",
    "    'Meh, Kind of good',\n",
    "    'Climate is perfect'\n",
    "]"
   ]
  },
  {
   "cell_type": "code",
   "execution_count": 49,
   "metadata": {},
   "outputs": [
    {
     "data": {
      "text/plain": [
       "array([[1.],\n",
       "       [0.]], dtype=float32)"
      ]
     },
     "execution_count": 49,
     "metadata": {},
     "output_type": "execute_result"
    }
   ],
   "source": [
    "sequences = token2.texts_to_sequences(sentences)\n",
    "latest_padded = pd(sequences)\n",
    "model.predict(latest_padded)"
   ]
  },
  {
   "cell_type": "code",
   "execution_count": 50,
   "metadata": {},
   "outputs": [
    {
     "name": "stdout",
     "output_type": "stream",
     "text": [
      "Model: \"sequential_3\"\n",
      "_________________________________________________________________\n",
      "Layer (type)                 Output Shape              Param #   \n",
      "=================================================================\n",
      "embedding_3 (Embedding)      (None, None, 50)          1325400   \n",
      "_________________________________________________________________\n",
      "global_average_pooling1d_3 ( (None, 50)                0         \n",
      "_________________________________________________________________\n",
      "dense_6 (Dense)              (None, 24)                1224      \n",
      "_________________________________________________________________\n",
      "dense_7 (Dense)              (None, 1)                 25        \n",
      "=================================================================\n",
      "Total params: 1,326,649\n",
      "Trainable params: 1,326,649\n",
      "Non-trainable params: 0\n",
      "_________________________________________________________________\n"
     ]
    }
   ],
   "source": [
    " model.summary()"
   ]
  },
  {
   "cell_type": "code",
   "execution_count": 48,
   "metadata": {},
   "outputs": [
    {
     "name": "stdout",
     "output_type": "stream",
     "text": [
      "5342/5342 [==============================] - 0s 82us/sample - loss: 2.7159 - accuracy: 0.8100\n"
     ]
    },
    {
     "data": {
      "text/plain": [
       "[2.715869650533234, 0.80999625]"
      ]
     },
     "execution_count": 48,
     "metadata": {},
     "output_type": "execute_result"
    }
   ],
   "source": [
    "model.evaluate(test_pad, test_result)"
   ]
  },
  {
   "cell_type": "code",
   "execution_count": null,
   "metadata": {},
   "outputs": [],
   "source": []
  }
 ],
 "metadata": {
  "kernelspec": {
   "display_name": "Python 3",
   "language": "python",
   "name": "python3"
  },
  "language_info": {
   "codemirror_mode": {
    "name": "ipython",
    "version": 3
   },
   "file_extension": ".py",
   "mimetype": "text/x-python",
   "name": "python",
   "nbconvert_exporter": "python",
   "pygments_lexer": "ipython3",
   "version": "3.7.4"
  }
 },
 "nbformat": 4,
 "nbformat_minor": 2
}
